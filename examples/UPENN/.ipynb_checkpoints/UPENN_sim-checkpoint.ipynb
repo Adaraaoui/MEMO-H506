{
 "cells": [
  {
   "cell_type": "markdown",
   "id": "86684b28-4dc6-4619-b7f9-e70adb2d37bd",
   "metadata": {},
   "source": [
    "# JupyerLab notebook example for UPENN like simulations"
   ]
  },
  {
   "cell_type": "markdown",
   "id": "b9a6618d-31fd-45de-a32a-2f840b8a1a8f",
   "metadata": {},
   "source": [
    "/!\\ /!\\ /!\\  \n",
    "Oxygen diffusion from cell environment not (yet) included in the model.  \n",
    "Therefore, the oxygen level is reinitialized before each new pulse.  "
   ]
  },
  {
   "cell_type": "markdown",
   "id": "72b95379-a975-49e5-910b-c0086774fec0",
   "metadata": {},
   "source": [
    "## Module imports"
   ]
  },
  {
   "cell_type": "code",
   "execution_count": null,
   "id": "8614038f-5363-406e-bce6-a65347dfff6a",
   "metadata": {
    "tags": []
   },
   "outputs": [],
   "source": [
    "# External modules (to \"pip install\")\n",
    "import pandas as pd\n",
    "import numpy as np\n",
    "import matplotlib.pyplot as plt\n",
    "\n",
    "# Modules from Standard lib\n",
    "from pathlib import Path\n",
    "\n",
    "# RadioBio module\n",
    "import radiopyo as rp"
   ]
  },
  {
   "cell_type": "markdown",
   "id": "f642ba2d-4576-4abb-9226-d0468302f3db",
   "metadata": {
    "tags": []
   },
   "source": [
    "## Simulation Run"
   ]
  },
  {
   "cell_type": "markdown",
   "id": "c96e383b-85a8-4f0c-b98e-5826d71a9e40",
   "metadata": {},
   "source": [
    "**1) Load configuration from the toml file +**  \n",
    " -> create a ref to O2 species for later use  \n",
    " -> define the desired number of pulses  \n",
    " -> define the period"
   ]
  },
  {
   "cell_type": "code",
   "execution_count": null,
   "id": "6c7b2f44-8766-4381-8551-5de8abc6e0d1",
   "metadata": {
    "tags": []
   },
   "outputs": [],
   "source": [
    "file = Path(rf\"configuration_UPENN.toml\")\n",
    "uc = rp.UnitCell.from_toml(file)\n",
    "\n",
    "O2 = uc.env.species.get(\"O2\")\n",
    "PULSES_NUMBER = 3\n",
    "PERIOD = 120 # seconds"
   ]
  },
  {
   "cell_type": "markdown",
   "id": "ada2e99b-29d1-4b6c-a559-05ef081cfeea",
   "metadata": {
    "tags": []
   },
   "source": [
    "**2) Run sim over the first pulse**"
   ]
  },
  {
   "cell_type": "code",
   "execution_count": null,
   "id": "7e01f63f-2a21-40ae-a646-f201c7357992",
   "metadata": {
    "tags": []
   },
   "outputs": [],
   "source": [
    "res = uc.prepare_chunked_run([1e-9, PERIOD],\n",
    "                             max_step_size_on=1e-5,\n",
    "                             max_step_size_off=0.5).run()"
   ]
  },
  {
   "cell_type": "markdown",
   "id": "dbe8581c-0fae-4886-93dc-2f74d8266702",
   "metadata": {},
   "source": [
    "**3) Run the next pulses**\n",
    "* Reset beam start time  \n",
    "* Copy final concentrations of previous sim  \n",
    "* Reset the O2 concentration to its initial value (in µmol/L)  \n",
    "* Run and append the simulation result to the previous result  "
   ]
  },
  {
   "cell_type": "code",
   "execution_count": null,
   "id": "9695eb73-da1c-4eda-9d5c-75a0dc70a1cd",
   "metadata": {
    "tags": []
   },
   "outputs": [],
   "source": [
    "for pulse in range(PULSES_NUMBER-1):\n",
    "    uc.beam.reset(start=res.time[-1])\n",
    "    y0 = res.final_cc\n",
    "    y0[O2.index] = O2.initial_cc()*1e6\n",
    "    res +=  uc.prepare_chunked_run([res.time[-1], res.time[-1]+PERIOD],\n",
    "                                   max_step_size_on=1e-5,\n",
    "                                   max_step_size_off=0.5,\n",
    "                                   y0=y0).run()"
   ]
  },
  {
   "cell_type": "markdown",
   "id": "f1e6eb72-fa15-41d8-8fc5-acd534f9e063",
   "metadata": {},
   "source": [
    "**Convert final result to pandas DataFrame**"
   ]
  },
  {
   "cell_type": "code",
   "execution_count": null,
   "id": "12f814b4-89a5-4466-83ee-6db5c0a4ff2a",
   "metadata": {},
   "outputs": [],
   "source": [
    "df = res.to_pandas()"
   ]
  },
  {
   "cell_type": "markdown",
   "id": "29cef455-3de1-4f82-8b27-2c017945fa13",
   "metadata": {},
   "source": [
    "## Results usage"
   ]
  },
  {
   "cell_type": "markdown",
   "id": "47e62996-5c51-4146-b9a4-c830def3e580",
   "metadata": {},
   "source": [
    "**Integrate values per pulse**"
   ]
  },
  {
   "cell_type": "code",
   "execution_count": null,
   "id": "f2a88dc5-cb03-4b7e-ab44-ed514c861ba6",
   "metadata": {},
   "outputs": [],
   "source": [
    "by_pulse = pd.DataFrame(columns=df.columns)\n",
    "for pulse in range(PULSES_NUMBER):\n",
    "    by_pulse.loc[pulse, :] = res.integrate_species(start=pulse*PERIOD, stop=(pulse+1)*PERIOD)"
   ]
  },
  {
   "cell_type": "markdown",
   "id": "4faef730-c152-4b94-8c3a-b05aa2645c63",
   "metadata": {
    "tags": []
   },
   "source": [
    "### Plot"
   ]
  },
  {
   "cell_type": "code",
   "execution_count": null,
   "id": "03ee11e1-5019-454b-95e6-51f290127bdc",
   "metadata": {
    "tags": []
   },
   "outputs": [],
   "source": [
    "# Some common plot options for uniformity\n",
    "RIGHT_LIMIT = 1e3"
   ]
  },
  {
   "cell_type": "markdown",
   "id": "c0a20b79-4303-4515-9dcf-7de847a3e825",
   "metadata": {},
   "source": [
    "#### Water-only Radiolytic produced species"
   ]
  },
  {
   "cell_type": "code",
   "execution_count": null,
   "id": "55b88c6f-e18f-479e-887f-d10786d6a9f1",
   "metadata": {},
   "outputs": [],
   "source": [
    "G_species = [\"OH_r\", \"e_aq\", \"H2O2\", \"H_r\"]\n",
    "fig, ax = plt.subplots()\n",
    "for label in G_species:\n",
    "    ax.plot(df.index, df[label], label=label, marker=\"\")\n",
    "\n",
    "ax.set_ylim(bottom=1e-6, top=10)\n",
    "ax.set_xlim([1e-6, RIGHT_LIMIT])\n",
    "ax.set_xscale(\"log\")\n",
    "ax.set_yscale(\"log\")\n",
    "ax.set_xlabel(\"Time [s]\")\n",
    "ax.set_ylabel(\"Concentration [µmol/L]\")\n",
    "ax.legend(fancybox=True, framealpha=1)\n",
    "ax.set_title(\"Water radiolysis related species\")\n",
    "ax.grid()"
   ]
  },
  {
   "cell_type": "markdown",
   "id": "30144099-4b5d-47b0-9c9e-9a01532a4717",
   "metadata": {},
   "source": [
    "#### Biology related species"
   ]
  },
  {
   "cell_type": "code",
   "execution_count": null,
   "id": "d9fb4ec1-d2ab-401c-b6f1-bf2d83681e38",
   "metadata": {
    "tags": []
   },
   "outputs": [],
   "source": [
    "G_species = [\"ROO_r\", \"R_r\"]\n",
    "fig, ax = plt.subplots()\n",
    "for label in G_species:\n",
    "    ax.plot(df.index, df[label], label=label, marker=\"\")\n",
    "\n",
    "ax.set_ylim(bottom=1e-6, top=100)\n",
    "ax.set_xlim([1e-6, RIGHT_LIMIT])\n",
    "ax.set_xscale(\"log\")\n",
    "ax.set_yscale(\"log\")\n",
    "ax.set_xlabel(\"Time [s]\")\n",
    "ax.set_ylabel(\"Concentration [µmol/L]\")\n",
    "ax.legend(fancybox=True, framealpha=1)\n",
    "ax.set_title(\"Biology related species\")\n",
    "ax.grid()"
   ]
  },
  {
   "cell_type": "markdown",
   "id": "e3f3f40f-ba75-430c-af1d-fecee9ca5068",
   "metadata": {},
   "source": [
    "#### O2"
   ]
  },
  {
   "cell_type": "code",
   "execution_count": null,
   "id": "140c2b24-fb77-402c-8c30-fa61a69db757",
   "metadata": {},
   "outputs": [],
   "source": [
    "G_species = [\"O2\"]\n",
    "fig, ax = plt.subplots()\n",
    "for label in G_species:\n",
    "    ax.plot(df.index, df[label], label=label, marker=\"\")\n",
    "\n",
    "ax.set_ylim(bottom=40, top=52)\n",
    "ax.set_xlim([1e-6, RIGHT_LIMIT])\n",
    "ax.set_xscale(\"log\")\n",
    "ax.set_xlabel(\"Time [s]\")\n",
    "ax.set_ylabel(\"Concentration [µmol/L]\")\n",
    "ax.set_title(\"Molecular Oxygen\")\n",
    "ax.grid()"
   ]
  },
  {
   "cell_type": "code",
   "execution_count": null,
   "id": "1f91f567-6532-457b-8ff4-76c25ce61565",
   "metadata": {},
   "outputs": [],
   "source": []
  }
 ],
 "metadata": {
  "kernelspec": {
   "display_name": "Python 3 (ipykernel)",
   "language": "python",
   "name": "python3"
  },
  "language_info": {
   "codemirror_mode": {
    "name": "ipython",
    "version": 3
   },
   "file_extension": ".py",
   "mimetype": "text/x-python",
   "name": "python",
   "nbconvert_exporter": "python",
   "pygments_lexer": "ipython3",
   "version": "3.11.3"
  }
 },
 "nbformat": 4,
 "nbformat_minor": 5
}
