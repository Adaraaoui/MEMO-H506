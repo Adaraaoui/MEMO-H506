{
 "cells": [
  {
   "cell_type": "markdown",
   "id": "86684b28-4dc6-4619-b7f9-e70adb2d37bd",
   "metadata": {},
   "source": [
    "# JupyerLab notebook example for BordetBeam-like simulations"
   ]
  },
  {
   "cell_type": "markdown",
   "id": "72b95379-a975-49e5-910b-c0086774fec0",
   "metadata": {},
   "source": [
    "## Module imports"
   ]
  },
  {
   "cell_type": "code",
   "execution_count": 3,
   "id": "8614038f-5363-406e-bce6-a65347dfff6a",
   "metadata": {
    "ExecuteTime": {
     "end_time": "2023-10-11T09:13:13.028904Z",
     "start_time": "2023-10-11T09:13:11.146023700Z"
    },
    "tags": []
   },
   "outputs": [],
   "source": [
    "# External modules (to \"pip install\")\n",
    "import pandas as pd\n",
    "import numpy as np\n",
    "import matplotlib.pyplot as plt\n",
    "\n",
    "# Modules from Standard lib\n",
    "from pathlib import Path\n",
    "\n",
    "# RadioBio module\n",
    "import radiopyo as rp"
   ]
  },
  {
   "cell_type": "markdown",
   "id": "f642ba2d-4576-4abb-9226-d0468302f3db",
   "metadata": {
    "tags": []
   },
   "source": [
    "## Simulation Run"
   ]
  },
  {
   "cell_type": "markdown",
   "id": "c96e383b-85a8-4f0c-b98e-5826d71a9e40",
   "metadata": {},
   "source": [
    "**1) Load configuration from the toml file +**  \n",
    " -> create a ref to O2 species for later use  \n",
    " -> define the desired number of pulses  \n",
    " -> define the period"
   ]
  },
  {
   "cell_type": "code",
   "execution_count": 2,
   "id": "40af2dfe-b9de-4046-8417-090c97f352d0",
   "metadata": {
    "tags": []
   },
   "outputs": [
    {
     "ename": "NameError",
     "evalue": "name 'uc' is not defined",
     "output_type": "error",
     "traceback": [
      "\u001b[1;31m---------------------------------------------------------------------------\u001b[0m",
      "\u001b[1;31mNameError\u001b[0m                                 Traceback (most recent call last)",
      "Cell \u001b[1;32mIn[2], line 1\u001b[0m\n\u001b[1;32m----> 1\u001b[0m uc\u001b[38;5;241m.\u001b[39mbeam_list\u001b[38;5;241m.\u001b[39mcurrent\n",
      "\u001b[1;31mNameError\u001b[0m: name 'uc' is not defined"
     ]
    }
   ],
   "source": [
    "uc.beam_list.current"
   ]
  },
  {
   "cell_type": "code",
   "execution_count": 10,
   "id": "6c7b2f44-8766-4381-8551-5de8abc6e0d1",
   "metadata": {
    "ExecuteTime": {
     "end_time": "2023-10-11T09:19:12.214530300Z",
     "start_time": "2023-10-11T09:19:11.429105Z"
    },
    "tags": []
   },
   "outputs": [
    {
     "name": "stdout",
     "output_type": "stream",
     "text": [
      "2024-02-28 10:41:15,549::radiopyo::INFO::Loading config from file: configuration_Bordet.toml\n",
      "2024-02-28 10:41:15,558::radiopyo::INFO::Resolving include: C:\\Users\\daraa\\Dev\\radiopyo\\radiopyo\\radiopyo\\data\\config_Labarbe.toml\n",
      "2024-02-28 10:41:15,564::radiopyo::INFO::Resolving include: C:\\Users\\daraa\\Dev\\radiopyo\\radiopyo\\radiopyo\\data\\basic_water_radiolysis.toml\n",
      "2024-02-28 10:41:15,804::radiopyo::INFO::Resolving include: C:\\Users\\daraa\\Dev\\radiopyo\\radiopyo\\radiopyo\\data\\reactions_biology.toml\n",
      "2024-02-28 10:41:15,899::radiopyo::WARNING::Unable to compute mass of GSH. Setting it to default mass, i.e. 0\n",
      "2024-02-28 10:41:16,381::radiopyo::WARNING::Unable to compute mass of GSH. Setting it to default mass, i.e. 0\n",
      "2024-02-28 10:41:16,726::radiopyo::INFO::File is loaded\n",
      "2024-02-28 10:41:16,726::radiopyo::INFO::Beam configuration detected in config file\n",
      "2024-02-28 10:41:16,727::radiopyo::INFO::BEAM:: Found beam 'conv' as pulsed -> {'dose_rate': 0.1, 'period': 0.03333333333333333, 'on_time': 1.2e-06, 'max_dose': 10, 'start_time': 0.0, 'label': 'conv', 'LET': 0.2116}\n",
      "2024-02-28 10:41:16,727::radiopyo::INFO::BEAM:: Found beam 'conv2' as pulsed -> {'dose_rate': 10, 'period': 0.03333333333333333, 'on_time': 1.2e-06, 'max_dose': 10, 'start_time': 0.0, 'label': 'conv2', 'LET': 0.2116}\n",
      "2024-02-28 10:41:16,728::radiopyo::INFO::BEAM:: Found beam 'conv3' as pulsed -> {'dose_rate': 1000, 'period': 0.03333333333333333, 'on_time': 1.2e-06, 'max_dose': 10, 'start_time': 0.0, 'label': 'conv3', 'LET': 0.2116}\n",
      "2024-02-28 10:41:16,728::radiopyo::INFO::BEAM:: Found beam 'UHDR' as pulsed -> {'dose_rate': 100, 'period': 0.011111111111111112, 'on_time': 2e-06, 'max_dose': 19.19, 'start_time': 0.0, 'label': 'UHDR', 'LET': 0.2116}\n",
      "2024-02-28 10:41:16,728::radiopyo::INFO::BEAM:: Found beam 'UHDR1' as pulsed -> {'dose_rate': 102.6, 'period': 0.011111111111111112, 'on_time': 2e-06, 'max_dose': 10.26, 'start_time': 0.0, 'label': 'UHDR1', 'LET': 0.2116}\n",
      "2024-02-28 10:41:16,729::radiopyo::INFO::BEAM:: Found beam 'UHDR2' as pulsed -> {'dose_rate': 105.6, 'period': 0.016666666666666666, 'on_time': 4e-06, 'max_dose': 10.56, 'start_time': 0.0, 'label': 'UHDR2', 'LET': 0.2116}\n",
      "2024-02-28 10:41:16,731::radiopyo::INFO::BEAM:: Found beam 'UHDR3' as pulsed -> {'dose_rate': 95.04, 'period': 0.008333333333333333, 'on_time': 1.2e-06, 'max_dose': 11.088, 'start_time': 0.0, 'label': 'UHDR3', 'LET': 0.2116}\n",
      "2024-02-28 10:41:16,732::radiopyo::INFO::BEAM:: Found beam 'continuous' as constant -> {'dose_rate': 10000, 'max_dose': 10, 'start_time': 0.0, 'label': 'continuous', 'LET': 0.1862}\n",
      "2024-02-28 10:41:16,733::radiopyo::INFO::CONFIG::Configuring Simulation Environment\n",
      "2024-02-28 10:41:16,734::radiopyo::INFO::CONFIG::3 Acid/Base reactions added\n",
      "2024-02-28 10:41:16,794::radiopyo::WARNING::Unable to compute mass of GSH. Setting it to default mass, i.e. 0\n",
      "2024-02-28 10:41:17,013::radiopyo::INFO::CONFIG::38 K-reactions added\n",
      "2024-02-28 10:41:17,028::radiopyo::INFO::CONFIG::1 Enzymatic reactions added\n",
      "2024-02-28 10:41:17,030::radiopyo::INFO::CONFIG::7 Radiolytic reactions added\n",
      "2024-02-28 10:41:17,032::radiopyo::INFO::CONFIG::15 Dynamical Species added.\n",
      "2024-02-28 10:41:17,033::radiopyo::INFO::CONFIG::8 Constant Species added.\n",
      "2024-02-28 10:41:17,034::radiopyo::INFO::CONFIG::Simulation Configuration done!\n",
      "2024-02-28 10:41:17,060::radiopyo::INFO::Setting beam definition (conv): PulsedBeam(dose_rate=0.1, timer=Timer(period=0.03333333333333333, on_time=1.2e-06, start_time=0.0), max_dose=10, label='default', time_at_max_dose=99.96666786666667, dose_per_pulse=0.003333333333333333, peak_dose_rate=2777.777777777778), done!\n",
      "2024-02-28 10:41:17,061::radiopyo::INFO::Setting beam definition (UHDR1): PulsedBeam(dose_rate=102.6, timer=Timer(period=0.011111111111111112, on_time=2e-06, start_time=0.0), max_dose=10.26, label='default', time_at_max_dose=0.0888908888888889, dose_per_pulse=1.14, peak_dose_rate=570000.0), done!\n"
     ]
    }
   ],
   "source": [
    "file = Path(rf\"configuration_Bordet.toml\")\n",
    "uc = rp.UnitCell.from_toml(file)\n",
    "uc.set_beam(\"UHDR1\")\n",
    "O2 = uc.env.species.get(\"O2\")\n",
    "#PULSES_NUMBER = 3\n",
    "PERIOD = 1100 # seconds"
   ]
  },
  {
   "cell_type": "markdown",
   "id": "ada2e99b-29d1-4b6c-a559-05ef081cfeea",
   "metadata": {
    "tags": []
   },
   "source": [
    "**2) Run sim over the first pulse**"
   ]
  },
  {
   "cell_type": "code",
   "execution_count": 11,
   "id": "7e01f63f-2a21-40ae-a646-f201c7357992",
   "metadata": {
    "ExecuteTime": {
     "start_time": "2023-10-11T09:23:26.076277600Z"
    },
    "is_executing": true,
    "tags": []
   },
   "outputs": [
    {
     "name": "stdout",
     "output_type": "stream",
     "text": [
      "2024-02-28 10:41:19,907::radiopyo::INFO::Simulation divided in 18 chunks\n",
      "2024-02-28 10:41:19,910::radiopyo::INFO::Running all simulation chunks\n"
     ]
    },
    {
     "data": {
      "application/vnd.jupyter.widget-view+json": {
       "model_id": "14b778be0e9c4e9ea29d7d94f57810d6",
       "version_major": 2,
       "version_minor": 0
      },
      "text/plain": [
       "  0%|          | 0/18 [00:00<?, ?it/s]"
      ]
     },
     "metadata": {},
     "output_type": "display_data"
    },
    {
     "name": "stdout",
     "output_type": "stream",
     "text": [
      "2024-02-28 10:41:22,770::radiopyo::INFO::Simulation done!\n"
     ]
    }
   ],
   "source": [
    "res = uc.prepare_chunked_run([1e-9,PERIOD],\n",
    "                             max_step_size_on=1e-4,\n",
    "                             max_step_size_off=0.5).run()"
   ]
  },
  {
   "cell_type": "markdown",
   "id": "dbe8581c-0fae-4886-93dc-2f74d8266702",
   "metadata": {},
   "source": [
    "**3) Run the next pulses**\n",
    "* Reset beam start time  \n",
    "* Copy final concentrations of previous sim  \n",
    "* Reset the O2 concentration to its initial value (in µmol/L)  \n",
    "* Run and append the simulation result to the previous result  "
   ]
  },
  {
   "cell_type": "markdown",
   "id": "f1e6eb72-fa15-41d8-8fc5-acd534f9e063",
   "metadata": {},
   "source": [
    "**Convert final result to pandas DataFrame**"
   ]
  },
  {
   "cell_type": "code",
   "execution_count": 12,
   "id": "12f814b4-89a5-4466-83ee-6db5c0a4ff2a",
   "metadata": {
    "is_executing": true,
    "tags": []
   },
   "outputs": [],
   "source": [
    "df = res.to_pandas()"
   ]
  },
  {
   "cell_type": "code",
   "execution_count": null,
   "id": "257f9b81-0835-494e-a946-e2a4967bf811",
   "metadata": {
    "tags": []
   },
   "outputs": [],
   "source": [
    "from scipy import integrate\n",
    "G_species = [df.columns]\n",
    "\n",
    "ser = df[\"ROO_r\"].to_numpy()\n",
    "integrate.simpson(ser, df.index)\n"
   ]
  },
  {
   "cell_type": "code",
   "execution_count": 13,
   "id": "67e7bd5d-8dd8-4103-b43a-7794bad456a4",
   "metadata": {
    "tags": []
   },
   "outputs": [
    {
     "data": {
      "text/plain": [
       "Index(['OH_r', 'O_r_minus', 'H2O2', 'HO2_minus', 'HO2_r', 'O2_r_minus', 'O2',\n",
       "       'Fe_plus_plus_plus', 'H_r', 'RH_r', 'e_aq', 'R_r', 'ROO_r', 'trash',\n",
       "       'ROH', 'RO', 'ROOH', 'H2', 'O2_minus_minus', 'O3_r_minus', 'H3O_plus',\n",
       "       'H2O', 'catalase', 'Fe_plus_plus', 'GSH', 'RH', 'unsat_lipid', 'H_plus',\n",
       "       'OH_minus'],\n",
       "      dtype='object')"
      ]
     },
     "execution_count": 13,
     "metadata": {},
     "output_type": "execute_result"
    }
   ],
   "source": [
    "df.columns"
   ]
  },
  {
   "cell_type": "code",
   "execution_count": 9,
   "id": "965026db-2066-440f-8a03-385a5c27dcb7",
   "metadata": {
    "tags": []
   },
   "outputs": [
    {
     "ename": "KeyError",
     "evalue": "'mol1'",
     "output_type": "error",
     "traceback": [
      "\u001b[1;31m---------------------------------------------------------------------------\u001b[0m",
      "\u001b[1;31mKeyError\u001b[0m                                  Traceback (most recent call last)",
      "File \u001b[1;32m~\\anaconda3\\Lib\\site-packages\\pandas\\core\\indexes\\base.py:3653\u001b[0m, in \u001b[0;36mIndex.get_loc\u001b[1;34m(self, key)\u001b[0m\n\u001b[0;32m   3652\u001b[0m \u001b[38;5;28;01mtry\u001b[39;00m:\n\u001b[1;32m-> 3653\u001b[0m     \u001b[38;5;28;01mreturn\u001b[39;00m \u001b[38;5;28mself\u001b[39m\u001b[38;5;241m.\u001b[39m_engine\u001b[38;5;241m.\u001b[39mget_loc(casted_key)\n\u001b[0;32m   3654\u001b[0m \u001b[38;5;28;01mexcept\u001b[39;00m \u001b[38;5;167;01mKeyError\u001b[39;00m \u001b[38;5;28;01mas\u001b[39;00m err:\n",
      "File \u001b[1;32m~\\anaconda3\\Lib\\site-packages\\pandas\\_libs\\index.pyx:147\u001b[0m, in \u001b[0;36mpandas._libs.index.IndexEngine.get_loc\u001b[1;34m()\u001b[0m\n",
      "File \u001b[1;32m~\\anaconda3\\Lib\\site-packages\\pandas\\_libs\\index.pyx:176\u001b[0m, in \u001b[0;36mpandas._libs.index.IndexEngine.get_loc\u001b[1;34m()\u001b[0m\n",
      "File \u001b[1;32mpandas\\_libs\\hashtable_class_helper.pxi:7080\u001b[0m, in \u001b[0;36mpandas._libs.hashtable.PyObjectHashTable.get_item\u001b[1;34m()\u001b[0m\n",
      "File \u001b[1;32mpandas\\_libs\\hashtable_class_helper.pxi:7088\u001b[0m, in \u001b[0;36mpandas._libs.hashtable.PyObjectHashTable.get_item\u001b[1;34m()\u001b[0m\n",
      "\u001b[1;31mKeyError\u001b[0m: 'mol1'",
      "\nThe above exception was the direct cause of the following exception:\n",
      "\u001b[1;31mKeyError\u001b[0m                                  Traceback (most recent call last)",
      "Cell \u001b[1;32mIn[9], line 6\u001b[0m\n\u001b[0;32m      3\u001b[0m fig, ax \u001b[38;5;241m=\u001b[39m plt\u001b[38;5;241m.\u001b[39msubplots()\n\u001b[0;32m      4\u001b[0m \u001b[38;5;28;01mfor\u001b[39;00m label \u001b[38;5;129;01min\u001b[39;00m G_species:\n\u001b[1;32m----> 6\u001b[0m     ax\u001b[38;5;241m.\u001b[39mplot(df\u001b[38;5;241m.\u001b[39mindex, df[label], label\u001b[38;5;241m=\u001b[39mlabel \u001b[38;5;241m+\u001b[39m \u001b[38;5;124m\"\u001b[39m\u001b[38;5;124m \u001b[39m\u001b[38;5;124m\"\u001b[39m, marker\u001b[38;5;241m=\u001b[39m\u001b[38;5;124m\"\u001b[39m\u001b[38;5;124m\"\u001b[39m)\n\u001b[0;32m     11\u001b[0m ax\u001b[38;5;241m.\u001b[39mset_ylim(bottom\u001b[38;5;241m=\u001b[39m\u001b[38;5;241m1e-2\u001b[39m, top\u001b[38;5;241m=\u001b[39m\u001b[38;5;241m1e1\u001b[39m)\n\u001b[0;32m     12\u001b[0m ax\u001b[38;5;241m.\u001b[39mset_xscale(\u001b[38;5;124m\"\u001b[39m\u001b[38;5;124mlog\u001b[39m\u001b[38;5;124m\"\u001b[39m)\n",
      "File \u001b[1;32m~\\anaconda3\\Lib\\site-packages\\pandas\\core\\frame.py:3761\u001b[0m, in \u001b[0;36mDataFrame.__getitem__\u001b[1;34m(self, key)\u001b[0m\n\u001b[0;32m   3759\u001b[0m \u001b[38;5;28;01mif\u001b[39;00m \u001b[38;5;28mself\u001b[39m\u001b[38;5;241m.\u001b[39mcolumns\u001b[38;5;241m.\u001b[39mnlevels \u001b[38;5;241m>\u001b[39m \u001b[38;5;241m1\u001b[39m:\n\u001b[0;32m   3760\u001b[0m     \u001b[38;5;28;01mreturn\u001b[39;00m \u001b[38;5;28mself\u001b[39m\u001b[38;5;241m.\u001b[39m_getitem_multilevel(key)\n\u001b[1;32m-> 3761\u001b[0m indexer \u001b[38;5;241m=\u001b[39m \u001b[38;5;28mself\u001b[39m\u001b[38;5;241m.\u001b[39mcolumns\u001b[38;5;241m.\u001b[39mget_loc(key)\n\u001b[0;32m   3762\u001b[0m \u001b[38;5;28;01mif\u001b[39;00m is_integer(indexer):\n\u001b[0;32m   3763\u001b[0m     indexer \u001b[38;5;241m=\u001b[39m [indexer]\n",
      "File \u001b[1;32m~\\anaconda3\\Lib\\site-packages\\pandas\\core\\indexes\\base.py:3655\u001b[0m, in \u001b[0;36mIndex.get_loc\u001b[1;34m(self, key)\u001b[0m\n\u001b[0;32m   3653\u001b[0m     \u001b[38;5;28;01mreturn\u001b[39;00m \u001b[38;5;28mself\u001b[39m\u001b[38;5;241m.\u001b[39m_engine\u001b[38;5;241m.\u001b[39mget_loc(casted_key)\n\u001b[0;32m   3654\u001b[0m \u001b[38;5;28;01mexcept\u001b[39;00m \u001b[38;5;167;01mKeyError\u001b[39;00m \u001b[38;5;28;01mas\u001b[39;00m err:\n\u001b[1;32m-> 3655\u001b[0m     \u001b[38;5;28;01mraise\u001b[39;00m \u001b[38;5;167;01mKeyError\u001b[39;00m(key) \u001b[38;5;28;01mfrom\u001b[39;00m \u001b[38;5;21;01merr\u001b[39;00m\n\u001b[0;32m   3656\u001b[0m \u001b[38;5;28;01mexcept\u001b[39;00m \u001b[38;5;167;01mTypeError\u001b[39;00m:\n\u001b[0;32m   3657\u001b[0m     \u001b[38;5;66;03m# If we have a listlike key, _check_indexing_error will raise\u001b[39;00m\n\u001b[0;32m   3658\u001b[0m     \u001b[38;5;66;03m#  InvalidIndexError. Otherwise we fall through and re-raise\u001b[39;00m\n\u001b[0;32m   3659\u001b[0m     \u001b[38;5;66;03m#  the TypeError.\u001b[39;00m\n\u001b[0;32m   3660\u001b[0m     \u001b[38;5;28mself\u001b[39m\u001b[38;5;241m.\u001b[39m_check_indexing_error(key)\n",
      "\u001b[1;31mKeyError\u001b[0m: 'mol1'"
     ]
    },
    {
     "data": {
      "image/png": "[encoded data removed]",
      "text/plain": [
       "<Figure size 640x480 with 1 Axes>"
      ]
     },
     "metadata": {},
     "output_type": "display_data"
    }
   ],
   "source": [
    "#Facolumnsau Labarbe\n",
    "G_species = [\"RR\"]\n",
    "fig, ax = plt.subplots()\n",
    "for label in G_species:\n",
    "\n",
    "    ax.plot(df.index, df[label], label=label + \" \", marker=\"\")\n",
    "   \n",
    "\n",
    "\n",
    "\n",
    "ax.set_ylim(bottom=1e-2, top=1e1)\n",
    "ax.set_xscale(\"log\")\n",
    "ax.set_yscale(\"log\")\n",
    "\n",
    "ax.set_xlabel(\"Time [s]\")\n",
    "ax.set_ylabel(\"Concentration [µmol/L]\")\n",
    "ax.legend(fancybox=True, framealpha=1)\n",
    "\n",
    "ax.grid()"
   ]
  },
  {
   "cell_type": "code",
   "execution_count": null,
   "id": "307d94c1-5fe6-454d-a611-12e73523e7e3",
   "metadata": {},
   "outputs": [],
   "source": [
    "G_species = [\"mol1\"]\n",
    "fig, ax = plt.subplots()\n",
    "for label in G_species:\n",
    "    ax.plot(df_conv.index, df_conv[label], label=label + \"(conv) \", marker=\"\")\n",
    "for label in G_species:\n",
    "    ax.plot(df_UHDR.index, df_UHDR[label], label=label + \"(UHDR) \", marker=\"\")\n",
    "\n",
    "\n",
    "ax.set_ylim(bottom=1e-2, top=1e1)\n",
    "ax.set_xscale(\"log\")\n",
    "ax.set_yscale(\"log\")\n",
    "\n",
    "ax.set_xlabel(\"Time [s]\")\n",
    "ax.set_ylabel(\"Concentration [µmol/L]\")\n",
    "ax.legend(fancybox=True, framealpha=1)\n",
    "\n",
    "ax.grid()"
   ]
  },
  {
   "cell_type": "code",
   "execution_count": null,
   "id": "aec8de1b-b843-4a56-ab18-34f6039c4bfe",
   "metadata": {},
   "outputs": [],
   "source": [
    "#beam conv lab (en fctn du débit de dose)\n",
    "AUC_x = [0.03,0.126,0.14,10,1,50,100,1000,10000]\n",
    "AUC_y = [61.9744,58.2509,55.9865,45.132,47.445,44.677,44.350,43.1558,42.4626]"
   ]
  },
  {
   "cell_type": "code",
   "execution_count": null,
   "id": "1a66b8dd-b6af-4936-8c47-e22afeb4ce23",
   "metadata": {},
   "outputs": [],
   "source": [
    "#beam Nina Conv (en fctn de la dose)\n",
    "AUC_x = [1,1.654,2,3,3.574,4,5,6,7,7.216,7.5,8,8.5,9,9.5,10,10.398,10.5,11,11.5,12,12.5,14,14.878,16,18,18.419,20]\n",
    "AUC_y = [6.816,10.91,12.984,18.75 ,21.9218,24.22,29.502,34.6865,39.7464]\n",
    "AUC_low = 0\n",
    "AUC_high = 194.678 "
   ]
  },
  {
   "cell_type": "code",
   "execution_count": null,
   "id": "182c5fea-77bd-4e6e-8e78-5d4fda174d05",
   "metadata": {},
   "outputs": [],
   "source": [
    "x = AUC_x\n",
    "y = AUC_y\n",
    "\n",
    "y_norm = []\n",
    "\n",
    "for val in y:\n",
    "    y_norm.append((val - AUC_low)/(AUC_high - AUC_low))\n",
    "y_norm\n",
    "x = np.asarray(y_norm)\n",
    "\n",
    "\n",
    "plt.xlabel(\"Dose (Gy)\")\n",
    "plt.ylabel(\"AUC_norm\")\n",
    "plt.plot(x,y_norm,\"o\",label='data')\n",
    "plt.ylim(0,1.2)\n",
    "                 \n",
    "        \n",
    "                  "
   ]
  },
  {
   "cell_type": "code",
   "execution_count": null,
   "id": "e373bd13-22d3-4152-8413-e143eb67bab8",
   "metadata": {},
   "outputs": [],
   "source": [
    "AUC50 = 0.0225\n",
    "gamma = 22.4538\n",
    "\n",
    "NTCP_model = []\n",
    "for i in range (lenAUC_x)):\n",
    "    NTCP = 1/(1+ np.exp(-gamma * (y_norm[i] - AUC50)))\n",
    "    NTCP_modedl.append(NTCP)\n",
    "    print(NTCP)\n",
    "\n",
    "plt.plot(x,NTCP_model, label ='data',linestyle=\":\")\n",
    "\n",
    "c = [0,1.654,3.574,7.216,10.398,14.878,18.419]\n",
    "d = [0.017,0.017,0.016,0.446,0.795999,0.95,1.0]\n",
    "plt.plot(c,d,'o',label= 'Nina point')\n",
    "\n",
    "plt.title(\"Oedeme pericardique (CONV Nina)\")\n",
    "plt.xlabel(\"Dose (Gy)\")\n",
    "plt.ylabel(\"NTCP\")"
   ]
  },
  {
   "cell_type": "markdown",
   "id": "29cef455-3de1-4f82-8b27-2c017945fa13",
   "metadata": {},
   "source": [
    "## Results usage"
   ]
  },
  {
   "cell_type": "markdown",
   "id": "47e62996-5c51-4146-b9a4-c830def3e580",
   "metadata": {},
   "source": [
    "**Integrate values per pulse**"
   ]
  },
  {
   "cell_type": "code",
   "execution_count": null,
   "id": "f2a88dc5-cb03-4b7e-ab44-ed514c861ba6",
   "metadata": {
    "is_executing": true
   },
   "outputs": [],
   "source": [
    "by_pulse = pd.DataFrame(columns=df.columns)\n",
    "for pulse in range(PULSES_NUMBER):\n",
    "    by_pulse.loc[pulse, :] = res.integrate_species(start=pulse*PERIOD, stop=(pulse+1)*PERIOD)"
   ]
  },
  {
   "cell_type": "markdown",
   "id": "4faef730-c152-4b94-8c3a-b05aa2645c63",
   "metadata": {
    "tags": []
   },
   "source": [
    "### Plot"
   ]
  },
  {
   "cell_type": "code",
   "execution_count": null,
   "id": "03ee11e1-5019-454b-95e6-51f290127bdc",
   "metadata": {
    "is_executing": true,
    "tags": []
   },
   "outputs": [],
   "source": [
    "# Some common plot options for uniformity\n",
    "RIGHT_LIMIT = 1e3"
   ]
  },
  {
   "cell_type": "markdown",
   "id": "c0a20b79-4303-4515-9dcf-7de847a3e825",
   "metadata": {},
   "source": [
    "#### Water-only Radiolytic produced species"
   ]
  },
  {
   "cell_type": "code",
   "execution_count": null,
   "id": "55b88c6f-e18f-479e-887f-d10786d6a9f1",
   "metadata": {
    "is_executing": true
   },
   "outputs": [],
   "source": [
    "G_species = [\"OH_r\", \"e_aq\", \"H2O2\", \"H_r\"]\n",
    "fig, ax = plt.subplots()\n",
    "for label in G_species:\n",
    "    ax.plot(df.index, df[label], label=label, marker=\"\")\n",
    "for label in G_species:\n",
    "    ax.plot(df2.index, df2[label], label=label+\"2\", marker=\"\")\n",
    "ax.set_ylim(bottom=1e-6, top=10)\n",
    "ax.set_xlim([1e-6, RIGHT_LIMIT])\n",
    "ax.set_xscale(\"log\")\n",
    "ax.set_yscale(\"log\")\n",
    "ax.set_xlabel(\"Time [s]\")\n",
    "ax.set_ylabel(\"Concentration [µmol/L]\")\n",
    "ax.legend(fancybox=True, framealpha=1)\n",
    "ax.set_title(\"Water radiolysis related species\")\n",
    "ax.grid()\n"
   ]
  },
  {
   "cell_type": "markdown",
   "id": "30144099-4b5d-47b0-9c9e-9a01532a4717",
   "metadata": {},
   "source": [
    "#### Biology related species"
   ]
  },
  {
   "cell_type": "code",
   "execution_count": null,
   "id": "f9b31938-0f2b-4eac-94d3-49fd8dda7299",
   "metadata": {
    "tags": []
   },
   "outputs": [],
   "source": [
    "G_species = df.columns\n",
    "\n",
    "for label in G_species:\n",
    "    ser = df[label].to_numpy()\n",
    "    print(\"En CONV la valeurest de \",integrate.simpson(ser, df.index), label)\n",
    "    ser = df2[label].to_numpy()\n",
    "    print(\"En FLASH la valeur est de \",integrate.simpson(ser, df2.index) , label)\n",
    "    fig, ax = plt.subplots()\n",
    "    ax.plot(df.index, df[label], label=label+ \" (conv)\", marker=\"\")\n",
    "    ax.plot(df2.index, df2[label], label=label+ \"(UHDR1)\", marker=\"\")\n",
    "    ax.set_ylim(bottom=1e-6, top=100)\n",
    "    ax.set_xlim([1e-6, RIGHT_LIMIT])\n",
    "    ax.set_xscale(\"log\")\n",
    "    ax.set_yscale(\"log\")\n",
    "    ax.set_xlabel(\"Time [s]\")\n",
    "    ax.set_ylabel(\"Concentration [µmol/L]\")\n",
    "    ax.legend(fancybox=True, framealpha=1)\n",
    "    ax.set_title(\"hydroxyl radical\")\n",
    "    ax.grid()\n",
    "   \n"
   ]
  },
  {
   "cell_type": "markdown",
   "id": "e3f3f40f-ba75-430c-af1d-fecee9ca5068",
   "metadata": {},
   "source": [
    "#### O2"
   ]
  },
  {
   "cell_type": "code",
   "execution_count": null,
   "id": "140c2b24-fb77-402c-8c30-fa61a69db757",
   "metadata": {
    "is_executing": true
   },
   "outputs": [],
   "source": [
    "G_species = [\"O2\"]\n",
    "fig, ax = plt.subplots()\n",
    "for label in G_species:\n",
    "    ax.plot(df2.index, df2[label], label=label+ \" (conv)\", marker=\"\")\n",
    "for label in G_species:\n",
    "    ax.plot(df.index, df[label], label=label, marker=\"\")\n",
    "\n",
    "ax.set_ylim(bottom=40, top=52)\n",
    "ax.set_xlim([1e-6, RIGHT_LIMIT])\n",
    "ax.set_xscale(\"log\")\n",
    "ax.set_xlabel(\"Time [s]\")\n",
    "ax.set_ylabel(\"Concentration [µmol/L]\")\n",
    "ax.legend(fancybox=True, framealpha=1)\n",
    "ax.set_title(\"Molecular Oxygen\")\n",
    "ax.grid()"
   ]
  },
  {
   "cell_type": "code",
   "execution_count": null,
   "id": "953cd5b4-7ed9-41cf-bfd5-379f905fd3a0",
   "metadata": {
    "tags": []
   },
   "outputs": [],
   "source": [
    "#Pour le faisceau conv pulsé\n",
    "AUC_x = [0.03, 0.126, 0.14, 10, 1, 50, 100, 1000, 10000] # Débit de dose (Gy/s)\n",
    "AUC_y = [61.97448412833437,58.25099468850181, 55.98657234991102,45.13203544074646, 47.44579399642899,44.67711829669291, 44.35049136942876, 43.15585985420986, 42.46269774285845] #AUC"
   ]
  },
  {
   "cell_type": "code",
   "execution_count": null,
   "id": "2e3ae2e4-5a18-45ac-bffb-84df8b6a9986",
   "metadata": {
    "tags": []
   },
   "outputs": [],
   "source": [
    "# Pour le faisceau Labarbe\n",
    "AUC_x = [0.03,0.1,1,5,10,1e2,1e3,1e4,1e5,1e6,1e7] # Débit de dose (Gy/s)\n",
    "AUC_y = [65.2365025222376,58.144958826624304,46.777523517874315,44.75729171486023,44.480700874402785,44.20935921268307,44.06894560628432,43.471019816856035,42.6943448659332,42.57292618878062,42.53353664572294]"
   ]
  },
  {
   "cell_type": "code",
   "execution_count": null,
   "id": "03223d53-29b7-4c6d-a68a-8e71827e2f6d",
   "metadata": {
    "tags": []
   },
   "outputs": [],
   "source": [
    "AUC_x = [1,2,5,8,10,12,15,17,19]\n",
    "AUC_y = [6.807757177571779,12.799042139691423,27.45247159318942,38.91159104642363,45.42569942028695,51.302745328776524,59.21935836769976,64.04353208925517,68.58004272034455]\n",
    "\n",
    "\n"
   ]
  },
  {
   "cell_type": "code",
   "execution_count": null,
   "id": "19442997-9dc3-4b6d-8b17-4041a129aade",
   "metadata": {
    "tags": []
   },
   "outputs": [],
   "source": [
    "[1,2,5,5.5,6.5,7.5,8,8.5,9.5,10,10.5,11.5,12,12.5,13.5,15,17,19]"
   ]
  },
  {
   "cell_type": "code",
   "execution_count": null,
   "id": "1f91f567-6532-457b-8ff4-76c25ce61565",
   "metadata": {
    "is_executing": true,
    "tags": []
   },
   "outputs": [],
   "source": [
    "# X axis is the dose or the dose rate\n",
    "x = AUC_x\n",
    "#Y axis is the normalised area-under-the-curve (AUC)\n",
    "y = AUC_y\n",
    "#high and low are the value for the normalisation\n",
    "AUC_high = 194.16326725567993\n",
    "AUC_low = 0\n",
    "\n",
    "y_norm = []\n",
    " \n",
    "for val in y:\n",
    "    y_norm.append((val - AUC_low)/(AUC_high - AUC_low))\n",
    "y_norm    \n",
    "x = np.asarray(x)\n",
    "y_norm = np.asarray(y_norm)\n"
   ]
  },
  {
   "cell_type": "code",
   "execution_count": null,
   "id": "c4aed9b9-3887-4557-b4f0-bdf66962b034",
   "metadata": {
    "tags": []
   },
   "outputs": [],
   "source": [
    "\n",
    "\n",
    "fig, ax = plt.subplots(figsize=(10, 6))\n",
    "\n",
    "# Tracer vos données sur les axes avec des cercles ('o') et une légende\n",
    "ax.plot(x, y_norm, 'o', label='D =  10 Gy')\n",
    "\n",
    "# Utiliser une échelle logarithmique pour l'axe x\n",
    "ax.set_xscale(\"log\")\n",
    "\n",
    "# Limiter l'axe y entre 0 et 1\n",
    "ax.set_ylim(0, 1)\n",
    "\n",
    "# Activer la grille\n",
    "ax.grid(True)\n",
    "\n",
    "ax.spines['top'].set_linewidth(2.0)\n",
    "ax.spines['right'].set_linewidth(2.0)\n",
    "ax.spines['bottom'].set_linewidth(2.0)\n",
    "ax.spines['left'].set_linewidth(2.0)\n",
    "ax.spines['left'].set_linewidth(2.0)\n",
    "ax.set_xlabel(\"Dose rate (Gy/s)\")\n",
    "ax.set_ylabel(\"AUC norm\")\n",
    "plt.xscale('log')\n",
    "# Ajouter une légende\n",
    "ax.legend()\n",
    "ax.set_title(\"Normalised area under the curve as a function of dose-rates\")\n",
    "# Afficher le graphique\n",
    "plt.show()\n",
    "\n"
   ]
  },
  {
   "cell_type": "code",
   "execution_count": null,
   "id": "67a8db23-6246-44e1-9c12-822cc0dac301",
   "metadata": {
    "tags": []
   },
   "outputs": [],
   "source": [
    "y_norm"
   ]
  },
  {
   "cell_type": "code",
   "execution_count": null,
   "id": "0f132f8a-3284-4387-ae10-d4eb4251c582",
   "metadata": {
    "tags": []
   },
   "outputs": [],
   "source": [
    "AUC50 = 0.199\n",
    "gamma = 3000\n",
    "NTCP_model = []\n",
    "for i in range (len(AUC_x)):\n",
    "    NTCP = 1/(1 + np.exp(-gamma * (y_norm[i] - AUC50)))\n",
    "    NTCP_model.append(NTCP)\n",
    "    print(NTCP)\n",
    "\n",
    "    \n",
    "fig, ax = plt.subplots(figsize=(10, 6))\n",
    "\n",
    "# Tracer vos données sur les axes avec des cercles ('o') et une légende\n",
    "ax.plot(x, NTCP_model, 'o', label='data')\n",
    "\n",
    "# Utiliser une échelle logarithmique pour l'axe x\n",
    "#ax.set_xscale(\"log\")\n",
    "\n",
    "# Limiter l'axe y entre 0 et 1 uniquement pour ce graphique\n",
    "\n",
    "\n",
    "ax.spines['top'].set_linewidth(2.0)\n",
    "ax.spines['right'].set_linewidth(2.0)\n",
    "ax.spines['bottom'].set_linewidth(2.0)\n",
    "ax.spines['left'].set_linewidth(2.0)\n",
    "\n",
    "\n",
    "ax.set_xlabel(\"Dose rate (Gy/s)\")\n",
    "ax.set_ylabel(\"NTCP\")\n",
    "\n",
    "# Ajouter une légende\n",
    "#ax.legend()\n",
    "ax.set_title(\"Modelised NTCP curve in function of the does rate\")\n",
    "# Activer la grille\n",
    "ax.grid(True)\n",
    "\n",
    "\n",
    "\n",
    "# Afficher le graphique\n",
    "   "
   ]
  },
  {
   "cell_type": "code",
   "execution_count": null,
   "id": "b9edb414-aca3-4b90-8423-58bc55604bc0",
   "metadata": {},
   "outputs": [],
   "source": []
  },
  {
   "cell_type": "code",
   "execution_count": null,
   "id": "235502d9-6051-4133-bb3e-e42a73fb092a",
   "metadata": {},
   "outputs": [],
   "source": []
  },
  {
   "cell_type": "code",
   "execution_count": null,
   "id": "9086ea2b-f246-4ad8-a8a7-1be5deed22ed",
   "metadata": {
    "tags": []
   },
   "outputs": [],
   "source": [
    "df.shape"
   ]
  },
  {
   "cell_type": "code",
   "execution_count": null,
   "id": "47318a3e-768b-4a8a-be0f-5d8b8641a3ed",
   "metadata": {
    "tags": []
   },
   "outputs": [],
   "source": [
    "df_r = res.reconstruct_reactions()"
   ]
  },
  {
   "cell_type": "code",
   "execution_count": null,
   "id": "9be18036-06c0-45d1-8f95-5dfd34ec1dd0",
   "metadata": {
    "tags": []
   },
   "outputs": [],
   "source": [
    "#fig_man.set_brewer_map(\"Dark2\",\"qualitative\",8,reverse = True)\n",
    "species = \"ROO_r\"\n",
    "fig, ax = plt.subplots(figsize=(10, 6))\n",
    "for reaction in res.env.reactions_involving_reactant(species):\n",
    "    ax.semilogx(df_r.index, df_r[reaction.as_label()], label=f\"{reaction}\", marker=\"\", linestyle=\":\")\n",
    "for reaction in res.env.reactions_involving_product(species):\n",
    "    ax.semilogx(df_r.index, df_r[reaction.as_label()], label=f\"{reaction}\", marker=\"\", linestyle=\"--\")\n",
    "                    \n",
    "                    \n",
    "ax.set_yscale(\"log\")\n",
    "ax.set_ylim([1e-15,1])\n",
    "ax.spines['top'].set_linewidth(2.0)\n",
    "ax.spines['right'].set_linewidth(2.0)\n",
    "ax.spines['bottom'].set_linewidth(2.0)\n",
    "ax.spines['left'].set_linewidth(2.0)\n",
    "ax.set_xlabel(\"times\")\n",
    "ax.set_ylabel(\"Reaction rate\")\n",
    "ax.legend(loc='upper left')\n",
    "ax.set_title(\"Reaction with ROO_r\")                    \n",
    "#fig2, ax2 = RPlot.set_legend_separate_plot(fig,ax)\n",
    "ax.grid('on')     \n",
    "\n",
    "                    \n",
    "                    "
   ]
  },
  {
   "cell_type": "code",
   "execution_count": null,
   "id": "3774bca9-4d1b-4472-9c00-f24104d49fa3",
   "metadata": {
    "tags": []
   },
   "outputs": [],
   "source": [
    "uc = rp.UnitCell.from_toml(\"config_SiongTan.toml\")"
   ]
  },
  {
   "cell_type": "code",
   "execution_count": null,
   "id": "eb41eee3-e984-4c89-8f0f-d53decd6ca21",
   "metadata": {
    "tags": []
   },
   "outputs": [],
   "source": [
    "uc.beam_list.current"
   ]
  },
  {
   "cell_type": "code",
   "execution_count": null,
   "id": "1ecd2c22-56a3-4fbb-9e67-e99406974de7",
   "metadata": {
    "tags": []
   },
   "outputs": [],
   "source": [
    "uc.beam_list.current.update_beam_param(max_dose=19)"
   ]
  },
  {
   "cell_type": "code",
   "execution_count": null,
   "id": "938ea946-86d5-4962-9699-8703375568c0",
   "metadata": {
    "tags": []
   },
   "outputs": [],
   "source": [
    "res = uc.prepare_chunked_run([1e-9,PERIOD],atol=0.01 , rtol=0.001,\n",
    "                             max_step_size_on=1e-1,\n",
    "                             max_step_size_off=0.5).run()"
   ]
  },
  {
   "cell_type": "code",
   "execution_count": null,
   "id": "63d70c0a-161d-4141-a257-86848edc0258",
   "metadata": {
    "tags": []
   },
   "outputs": [],
   "source": [
    "dose_rate = [1,10,100,500,1000]\n",
    "sims = dict()\n",
    "\n",
    "for idx, value in enumerate(dose_rate):\n",
    "    print(f\"Simulating conv: {value} Gy\")\n",
    "    uc.beam_list.current.update_beam_param(dose_rate=value)\n",
    "    sim = uc.prepare_chunked_run([1e-9, 1100],atol=0.01 , rtol=0.001,\n",
    "                             max_step_size_on=1e-1,\n",
    "                             max_step_size_off=0.5, use_jac=False)\n",
    "    res = sim.run()\n",
    "    sims[value] = res.to_pandas()\n"
   ]
  },
  {
   "cell_type": "code",
   "execution_count": null,
   "id": "530ee432-f26b-4ff7-a2ea-4b3c11520889",
   "metadata": {
    "tags": []
   },
   "outputs": [],
   "source": [
    "species = \"ROO_r\"\n",
    "\n",
    "fig, ax = plt.subplots(figsize=(10, 6))\n",
    "for value, df in sims.items():\n",
    "    ax.plot(df.index, df[species], label=f'{value} Gy/s', marker=\"\")\n",
    "    ser = df[species].to_numpy()\n",
    "    #print(integrate.simpson(ser, df.index))\n",
    "    \n",
    "    #ax.set_ylim(bottom=1e-6, top=2)\n",
    "    #ax.set_xlim([1e-6, RIGHT_LIMIT])\n",
    "    #ax.set_xlim([0, 100])\n",
    "ax.set_xscale(\"log\")\n",
    "#ax.set_yscale(\"log\")\n",
    "ax.spines['top'].set_linewidth(2.0)\n",
    "ax.spines['right'].set_linewidth(2.0)\n",
    "ax.spines['bottom'].set_linewidth(2.0)\n",
    "ax.spines['left'].set_linewidth(2.0)\n",
    "ax.set_xlabel(\"Time [s]\")\n",
    "ax.set_ylabel(\"Concentration [µmol/L]\")\n",
    "ax.legend(fancybox=True, framealpha=1)\n",
    "    #ax.legend(fancybox=True, framealpha=1)\n",
    "ax.set_title(\"Concentration of ROO_r for different dose rate\")\n",
    "ax.grid('on')       \n"
   ]
  },
  {
   "cell_type": "code",
   "execution_count": null,
   "id": "f02b639b-4ed9-4daf-af39-732d8ddd59cd",
   "metadata": {
    "tags": []
   },
   "outputs": [],
   "source": [
    "df.columns"
   ]
  },
  {
   "cell_type": "code",
   "execution_count": null,
   "id": "c547682b-bd72-43c1-99ee-f6ffedf54534",
   "metadata": {
    "tags": []
   },
   "outputs": [],
   "source": [
    "AUC_x = [1,2,5,8,10,12,15,17,19]\n",
    "AUC_y = [6.807757177571779,12.799042139691423,27.45247159318942,38.91159104642363,45.42569942028695,51.302745328776524,59.21935836769976,64.04353208925517,68.58004272034455]\n",
    "\n"
   ]
  },
  {
   "cell_type": "code",
   "execution_count": null,
   "id": "a6ad0462-312f-493a-b4f6-13341033c8ed",
   "metadata": {
    "tags": []
   },
   "outputs": [],
   "source": [
    "AUC_x = [0.03,0.1,1,5,10,20, 30, 40, 50,60,70,80,90,1e2,200, 300, 400, 500,600,700,800,900,1e3,2000, 3000, 4000, 5000,6000,7000,8000,9000,1e4,1e5,1e6,1e7] # Débit de dose (Gy/s)\n",
    "AUC_y = [65.2365025222376,58.144958826624304,46.777523517874315,44.75729171486023,44.480700874402785,44.33367934109567,44.28450504707478,44.25651380085663,44.24287696141527,44.23756301327218,44.22649633313222,44.215894831584436,44.217151756362306,44.20935921268307,44.180628468576934,44.15913400407609,44.14405316794805,44.12979464848568,44.11692855964534,44.103707658359326,44.09117311183242,44.07890927290556,44.06894560628432,43.95399535002546,43.85625604279862,43.76558058285963,43.68121980857103,43.60850380672044,43.545254581389834,43.485156118633945,43.43266432690035,43.391022304988105,42.6943448659332,42.57292618878062,42.53353664572294]"
   ]
  },
  {
   "cell_type": "code",
   "execution_count": null,
   "id": "0743e908-4a16-495a-a238-8c1cf82a1d96",
   "metadata": {
    "tags": []
   },
   "outputs": [],
   "source": [
    "species = \"ROO_r\"\n",
    "\n",
    "fig, ax = plt.subplots(figsize=(10, 6))\n",
    "for value, df in sims.items():\n",
    "    ax.plot(df.index, df[species], label=f'{value} Gy/s', marker=\"\")\n",
    "\n",
    "    #ax.set_ylim(bottom=1e-6, top=2)\n",
    "    #ax.set_xlim([1e-6, RIGHT_LIMIT])\n",
    "    #ax.set_xlim([0, 100])\n",
    "ax.set_xscale(\"log\")\n",
    "#ax.set_yscale(\"log\")\n",
    "ax.spines['top'].set_linewidth(2.0)\n",
    "ax.spines['right'].set_linewidth(2.0)\n",
    "ax.spines['bottom'].set_linewidth(2.0)\n",
    "ax.spines['left'].set_linewidth(2.0)\n",
    "ax.set_xlabel(\"Time [s]\")\n",
    "ax.set_ylabel(\"Concentration [µmol/L]\")\n",
    "ax.legend(fancybox=True, framealpha=1)\n",
    "    #ax.legend(fancybox=True, framealpha=1)\n",
    "ax.set_title(\"Concentration of ROO_r for different dose rate (Gy/s)\")\n",
    "ax.grid('on')       \n"
   ]
  },
  {
   "cell_type": "code",
   "execution_count": null,
   "id": "70aa8bee-00da-4191-83d5-c93c4d8d23ac",
   "metadata": {
    "tags": []
   },
   "outputs": [],
   "source": [
    "species = \"R_r\"\n",
    "fig, ax = plt.subplots(figsize=(10, 6))\n",
    "for value, df in sims.items():\n",
    "   ax.plot(df.index, df[species], label=f'{value} Gy/s', marker=\"\")\n",
    "\n",
    "  \n",
    "ax.set_xscale(\"log\")\n",
    "#ax.set_yscale(\"log\")\n",
    "ax.spines['top'].set_linewidth(2.0)\n",
    "ax.spines['right'].set_linewidth(2.0)\n",
    "ax.spines['bottom'].set_linewidth(2.0)\n",
    "ax.spines['left'].set_linewidth(2.0)\n",
    "ax.set_xlabel(\"Time [s]\")\n",
    "ax.set_ylabel(\"Concentration [µmol/L]\")\n",
    "ax.legend(fancybox=True, framealpha=1)\n",
    "    #ax.legend(fancybox=True, framealpha=1)\n",
    "ax.set_title(\"Concentration of 02 for different dose rate (Gy/s)\")\n",
    "ax.grid('on')   \n"
   ]
  },
  {
   "cell_type": "code",
   "execution_count": null,
   "id": "b87628d7-9a29-4e1c-a052-75f6f5433adf",
   "metadata": {
    "tags": []
   },
   "outputs": [],
   "source": [
    "original_list = [96.7,100,95.2,67.9,38.8,25,12.5]\n",
    "\n",
    "\n",
    "\n",
    "modified_list = [(100- x ) / 100 for x in original_list]\n",
    "\n",
    "print(modified_list)"
   ]
  },
  {
   "cell_type": "code",
   "execution_count": null,
   "id": "eb7ab436-0b05-42e4-8435-7f461c945aef",
   "metadata": {
    "tags": []
   },
   "outputs": [],
   "source": [
    "original_list = [1.7,1.7,1.6,44.6,79.6,95,100]\n",
    "modified_list = [(x ) / 100 for x in original_list]\n",
    "\n",
    "print(modified_list)"
   ]
  },
  {
   "cell_type": "code",
   "execution_count": null,
   "id": "76775b20-c089-42f6-a5be-1d60fa431c97",
   "metadata": {
    "tags": []
   },
   "outputs": [],
   "source": [
    "dose = [0,1.654,3.574,7.216,10.398,14.878,18.419]\n",
    "NTCP_exp = modified_list"
   ]
  },
  {
   "cell_type": "code",
   "execution_count": null,
   "id": "bd8bae90-7625-4cb3-8787-319299115443",
   "metadata": {
    "tags": []
   },
   "outputs": [],
   "source": [
    "fig, ax = plt.subplots(figsize=(10, 6))\n",
    "\n",
    "# Tracer vos données sur les axes avec des cercles ('o') et une légende\n",
    "ax.plot(dose, NTCP_exp, 'o', label='test')\n",
    "\n",
    "# Utiliser une échelle logarithmique pour l'axe x\n",
    "\n",
    "\n",
    "# Limiter l'axe y entre 0 et 1\n",
    "ax.set_ylim(0, 1.1)\n",
    "\n",
    "# Activer la grille\n",
    "ax.grid(True)\n",
    "\n",
    "ax.spines['top'].set_linewidth(2.0)\n",
    "ax.spines['right'].set_linewidth(2.0)\n",
    "ax.spines['bottom'].set_linewidth(2.0)\n",
    "ax.spines['left'].set_linewidth(2.0)\n",
    "ax.spines['left'].set_linewidth(2.0)\n",
    "ax.set_xlabel(\"Dose rate (Gy/s)\")\n",
    "ax.set_ylabel(\"AUC norm\")\n",
    "# Ajouter une légende\n",
    "ax.legend()\n",
    "ax.set_title(\"Normalised area under the curve as a function of dose-rates\")\n",
    "# Afficher le graphique\n",
    "plt.show()\n"
   ]
  },
  {
   "cell_type": "code",
   "execution_count": null,
   "id": "0dcb8f46-f013-4a62-bd58-1e4dd9c9e804",
   "metadata": {
    "tags": []
   },
   "outputs": [],
   "source": [
    "import numpy as np\n",
    "import matplotlib.pyplot as plt\n",
    "from scipy.optimize import curve_fit\n",
    "\n",
    "# Définir la fonction sigmoïde avec des noms de paramètres modifiés\n",
    "def sigmoid(x, gamma, AUC50):\n",
    "    return 1 / (1 + np.exp(-gamma * (x - AUC50)))\n",
    "\n",
    "# Générer des données expérimentales simulées\n",
    "x_data = np.array([0,1.654,3.574,7.216,10.398,14.878,18.419])\n",
    "y_data = np.array([0.017, 0.017, 0.016, 0.446, 0.7959999999999999, 0.95, 1.0])\n",
    "\n",
    "# Ajuster la courbe sigmoïde aux données expérimentales\n",
    "params, covariance = curve_fit(sigmoid, x_data, y_data)\n",
    "\n",
    "# Obtenir les paramètres ajustés\n",
    "gamma_fit, AUC50_fit = params\n",
    "\n",
    "# Générer des valeurs prédites avec les paramètres ajustés\n",
    "y_fit = sigmoid(x_data, gamma_fit, AUC50_fit)\n",
    "\n",
    "# Tracer les données expérimentales et la courbe ajustée\n",
    "plt.scatter(x_data, y_data, label='Données Expérimentales')\n",
    "plt.plot(x_data, y_fit, label='Courbe ajustée (Sigmoïde)', color='red')\n",
    "plt.legend()\n",
    "\n",
    "# Afficher le graphique\n",
    "plt.show()\n",
    "\n",
    "# Afficher les paramètres ajustés\n",
    "print(f\"Paramètre gamma ajusté : {gamma_fit}\")\n",
    "print(f\"Paramètre AUC50 ajusté : {AUC50_fit}\")\n"
   ]
  },
  {
   "cell_type": "code",
   "execution_count": null,
   "id": "b25c0fa3-7e97-457e-8422-b7bf99672709",
   "metadata": {},
   "outputs": [],
   "source": []
  }
 ],
 "metadata": {
  "kernelspec": {
   "display_name": "Python 3 (ipykernel)",
   "language": "python",
   "name": "python3"
  },
  "language_info": {
   "codemirror_mode": {
    "name": "ipython",
    "version": 3
   },
   "file_extension": ".py",
   "mimetype": "text/x-python",
   "name": "python",
   "nbconvert_exporter": "python",
   "pygments_lexer": "ipython3",
   "version": "3.11.5"
  }
 },
 "nbformat": 4,
 "nbformat_minor": 5
}
